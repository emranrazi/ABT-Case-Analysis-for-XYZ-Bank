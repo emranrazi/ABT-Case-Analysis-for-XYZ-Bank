{
  "nbformat": 4,
  "nbformat_minor": 0,
  "metadata": {
    "colab": {
      "provenance": []
    },
    "kernelspec": {
      "name": "python3",
      "display_name": "Python 3"
    },
    "language_info": {
      "name": "python"
    }
  },
  "cells": [
    {
      "cell_type": "code",
      "execution_count": null,
      "metadata": {
        "id": "_kob6NuE1Kgf"
      },
      "outputs": [],
      "source": [
        "#With these libraries imported, In'll be able to work with data, create visualizations, and perform various numerical computations efficiently in Python.\n",
        "import pandas as pd\n",
        "import matplotlib.pyplot as plt\n",
        "import numpy as np"
      ]
    },
    {
      "cell_type": "code",
      "source": [
        "df = pd.read_csv(\"#2205931.csv\")\n",
        "#This code aims to read the data from a CSV file named \"#2205931.csv\" and store it as a DataFrame called `df` using Pandas."
      ],
      "metadata": {
        "id": "iQPocVcJ2Qh2"
      },
      "execution_count": null,
      "outputs": []
    },
    {
      "cell_type": "code",
      "source": [
        "df"
      ],
      "metadata": {
        "colab": {
          "base_uri": "https://localhost:8080/",
          "height": 423
        },
        "id": "x7fsYo0w2VfG",
        "outputId": "5232b3a8-1605-409b-e2d8-81c2ba8174d4"
      },
      "execution_count": null,
      "outputs": [
        {
          "output_type": "execute_result",
          "data": {
            "text/plain": [
              "      RowNumber  CustomerId      Surname  CreditScore Geography  Gender   Age  \\\n",
              "0           980    15642937     Padovesi        550.0    France  Female  46.0   \n",
              "1          6350    15699507  Messersmith        542.0    France  Female  25.0   \n",
              "2          1320    15763612         T'an        756.0   Germany    Male  41.0   \n",
              "3          5592    15607509      Ozerova        539.0    France    Male  38.0   \n",
              "4          4995    15585580        Chang        796.0   Germany  Female  52.0   \n",
              "...         ...         ...          ...          ...       ...     ...   ...   \n",
              "4995       4689    15669606          Chu        690.0    France    Male  33.0   \n",
              "4996       7321    15778142         Shih        850.0   Germany  Female  31.0   \n",
              "4997       9927    15603674       Knight        803.0    France    Male  36.0   \n",
              "4998       7846    15622774          Kao        648.0    France    Male  34.0   \n",
              "4999       1471    15762332     Ulyanova        568.0   Germany  Female  31.0   \n",
              "\n",
              "      Tenure    Balance  NumOfProducts  HasCrCard  IsActiveMember  \\\n",
              "0          7       0.00              2          1               0   \n",
              "1          7       0.00              2          0               1   \n",
              "2          2  124439.49              2          0               1   \n",
              "3          5       0.00              2          1               0   \n",
              "4          9  167194.36              1          1               1   \n",
              "...      ...        ...            ...        ...             ...   \n",
              "4995       5       0.00              2          1               0   \n",
              "4996       1  130089.56              2          1               1   \n",
              "4997       1       0.00              2          1               1   \n",
              "4998       0       0.00              1          1               1   \n",
              "4999       1   61592.14              2          1               1   \n",
              "\n",
              "      EstimatedSalary  Exited  \n",
              "0       130590.350000       0  \n",
              "1        82393.080000       0  \n",
              "2        47093.110000       0  \n",
              "3        47388.410000       0  \n",
              "4         8972.704286       1  \n",
              "...               ...     ...  \n",
              "4995    138017.680000       0  \n",
              "4996      4466.210000       0  \n",
              "4997    149370.930000       0  \n",
              "4998    167931.810000       0  \n",
              "4999     61796.640000       0  \n",
              "\n",
              "[5000 rows x 14 columns]"
            ],
            "text/html": [
              "\n",
              "  <div id=\"df-cf8c00b1-55be-417e-b00c-0d5c53b4c52d\" class=\"colab-df-container\">\n",
              "    <div>\n",
              "<style scoped>\n",
              "    .dataframe tbody tr th:only-of-type {\n",
              "        vertical-align: middle;\n",
              "    }\n",
              "\n",
              "    .dataframe tbody tr th {\n",
              "        vertical-align: top;\n",
              "    }\n",
              "\n",
              "    .dataframe thead th {\n",
              "        text-align: right;\n",
              "    }\n",
              "</style>\n",
              "<table border=\"1\" class=\"dataframe\">\n",
              "  <thead>\n",
              "    <tr style=\"text-align: right;\">\n",
              "      <th></th>\n",
              "      <th>RowNumber</th>\n",
              "      <th>CustomerId</th>\n",
              "      <th>Surname</th>\n",
              "      <th>CreditScore</th>\n",
              "      <th>Geography</th>\n",
              "      <th>Gender</th>\n",
              "      <th>Age</th>\n",
              "      <th>Tenure</th>\n",
              "      <th>Balance</th>\n",
              "      <th>NumOfProducts</th>\n",
              "      <th>HasCrCard</th>\n",
              "      <th>IsActiveMember</th>\n",
              "      <th>EstimatedSalary</th>\n",
              "      <th>Exited</th>\n",
              "    </tr>\n",
              "  </thead>\n",
              "  <tbody>\n",
              "    <tr>\n",
              "      <th>0</th>\n",
              "      <td>980</td>\n",
              "      <td>15642937</td>\n",
              "      <td>Padovesi</td>\n",
              "      <td>550.0</td>\n",
              "      <td>France</td>\n",
              "      <td>Female</td>\n",
              "      <td>46.0</td>\n",
              "      <td>7</td>\n",
              "      <td>0.00</td>\n",
              "      <td>2</td>\n",
              "      <td>1</td>\n",
              "      <td>0</td>\n",
              "      <td>130590.350000</td>\n",
              "      <td>0</td>\n",
              "    </tr>\n",
              "    <tr>\n",
              "      <th>1</th>\n",
              "      <td>6350</td>\n",
              "      <td>15699507</td>\n",
              "      <td>Messersmith</td>\n",
              "      <td>542.0</td>\n",
              "      <td>France</td>\n",
              "      <td>Female</td>\n",
              "      <td>25.0</td>\n",
              "      <td>7</td>\n",
              "      <td>0.00</td>\n",
              "      <td>2</td>\n",
              "      <td>0</td>\n",
              "      <td>1</td>\n",
              "      <td>82393.080000</td>\n",
              "      <td>0</td>\n",
              "    </tr>\n",
              "    <tr>\n",
              "      <th>2</th>\n",
              "      <td>1320</td>\n",
              "      <td>15763612</td>\n",
              "      <td>T'an</td>\n",
              "      <td>756.0</td>\n",
              "      <td>Germany</td>\n",
              "      <td>Male</td>\n",
              "      <td>41.0</td>\n",
              "      <td>2</td>\n",
              "      <td>124439.49</td>\n",
              "      <td>2</td>\n",
              "      <td>0</td>\n",
              "      <td>1</td>\n",
              "      <td>47093.110000</td>\n",
              "      <td>0</td>\n",
              "    </tr>\n",
              "    <tr>\n",
              "      <th>3</th>\n",
              "      <td>5592</td>\n",
              "      <td>15607509</td>\n",
              "      <td>Ozerova</td>\n",
              "      <td>539.0</td>\n",
              "      <td>France</td>\n",
              "      <td>Male</td>\n",
              "      <td>38.0</td>\n",
              "      <td>5</td>\n",
              "      <td>0.00</td>\n",
              "      <td>2</td>\n",
              "      <td>1</td>\n",
              "      <td>0</td>\n",
              "      <td>47388.410000</td>\n",
              "      <td>0</td>\n",
              "    </tr>\n",
              "    <tr>\n",
              "      <th>4</th>\n",
              "      <td>4995</td>\n",
              "      <td>15585580</td>\n",
              "      <td>Chang</td>\n",
              "      <td>796.0</td>\n",
              "      <td>Germany</td>\n",
              "      <td>Female</td>\n",
              "      <td>52.0</td>\n",
              "      <td>9</td>\n",
              "      <td>167194.36</td>\n",
              "      <td>1</td>\n",
              "      <td>1</td>\n",
              "      <td>1</td>\n",
              "      <td>8972.704286</td>\n",
              "      <td>1</td>\n",
              "    </tr>\n",
              "    <tr>\n",
              "      <th>...</th>\n",
              "      <td>...</td>\n",
              "      <td>...</td>\n",
              "      <td>...</td>\n",
              "      <td>...</td>\n",
              "      <td>...</td>\n",
              "      <td>...</td>\n",
              "      <td>...</td>\n",
              "      <td>...</td>\n",
              "      <td>...</td>\n",
              "      <td>...</td>\n",
              "      <td>...</td>\n",
              "      <td>...</td>\n",
              "      <td>...</td>\n",
              "      <td>...</td>\n",
              "    </tr>\n",
              "    <tr>\n",
              "      <th>4995</th>\n",
              "      <td>4689</td>\n",
              "      <td>15669606</td>\n",
              "      <td>Chu</td>\n",
              "      <td>690.0</td>\n",
              "      <td>France</td>\n",
              "      <td>Male</td>\n",
              "      <td>33.0</td>\n",
              "      <td>5</td>\n",
              "      <td>0.00</td>\n",
              "      <td>2</td>\n",
              "      <td>1</td>\n",
              "      <td>0</td>\n",
              "      <td>138017.680000</td>\n",
              "      <td>0</td>\n",
              "    </tr>\n",
              "    <tr>\n",
              "      <th>4996</th>\n",
              "      <td>7321</td>\n",
              "      <td>15778142</td>\n",
              "      <td>Shih</td>\n",
              "      <td>850.0</td>\n",
              "      <td>Germany</td>\n",
              "      <td>Female</td>\n",
              "      <td>31.0</td>\n",
              "      <td>1</td>\n",
              "      <td>130089.56</td>\n",
              "      <td>2</td>\n",
              "      <td>1</td>\n",
              "      <td>1</td>\n",
              "      <td>4466.210000</td>\n",
              "      <td>0</td>\n",
              "    </tr>\n",
              "    <tr>\n",
              "      <th>4997</th>\n",
              "      <td>9927</td>\n",
              "      <td>15603674</td>\n",
              "      <td>Knight</td>\n",
              "      <td>803.0</td>\n",
              "      <td>France</td>\n",
              "      <td>Male</td>\n",
              "      <td>36.0</td>\n",
              "      <td>1</td>\n",
              "      <td>0.00</td>\n",
              "      <td>2</td>\n",
              "      <td>1</td>\n",
              "      <td>1</td>\n",
              "      <td>149370.930000</td>\n",
              "      <td>0</td>\n",
              "    </tr>\n",
              "    <tr>\n",
              "      <th>4998</th>\n",
              "      <td>7846</td>\n",
              "      <td>15622774</td>\n",
              "      <td>Kao</td>\n",
              "      <td>648.0</td>\n",
              "      <td>France</td>\n",
              "      <td>Male</td>\n",
              "      <td>34.0</td>\n",
              "      <td>0</td>\n",
              "      <td>0.00</td>\n",
              "      <td>1</td>\n",
              "      <td>1</td>\n",
              "      <td>1</td>\n",
              "      <td>167931.810000</td>\n",
              "      <td>0</td>\n",
              "    </tr>\n",
              "    <tr>\n",
              "      <th>4999</th>\n",
              "      <td>1471</td>\n",
              "      <td>15762332</td>\n",
              "      <td>Ulyanova</td>\n",
              "      <td>568.0</td>\n",
              "      <td>Germany</td>\n",
              "      <td>Female</td>\n",
              "      <td>31.0</td>\n",
              "      <td>1</td>\n",
              "      <td>61592.14</td>\n",
              "      <td>2</td>\n",
              "      <td>1</td>\n",
              "      <td>1</td>\n",
              "      <td>61796.640000</td>\n",
              "      <td>0</td>\n",
              "    </tr>\n",
              "  </tbody>\n",
              "</table>\n",
              "<p>5000 rows × 14 columns</p>\n",
              "</div>\n",
              "    <div class=\"colab-df-buttons\">\n",
              "\n",
              "  <div class=\"colab-df-container\">\n",
              "    <button class=\"colab-df-convert\" onclick=\"convertToInteractive('df-cf8c00b1-55be-417e-b00c-0d5c53b4c52d')\"\n",
              "            title=\"Convert this dataframe to an interactive table.\"\n",
              "            style=\"display:none;\">\n",
              "\n",
              "  <svg xmlns=\"http://www.w3.org/2000/svg\" height=\"24px\" viewBox=\"0 -960 960 960\">\n",
              "    <path d=\"M120-120v-720h720v720H120Zm60-500h600v-160H180v160Zm220 220h160v-160H400v160Zm0 220h160v-160H400v160ZM180-400h160v-160H180v160Zm440 0h160v-160H620v160ZM180-180h160v-160H180v160Zm440 0h160v-160H620v160Z\"/>\n",
              "  </svg>\n",
              "    </button>\n",
              "\n",
              "  <style>\n",
              "    .colab-df-container {\n",
              "      display:flex;\n",
              "      gap: 12px;\n",
              "    }\n",
              "\n",
              "    .colab-df-convert {\n",
              "      background-color: #E8F0FE;\n",
              "      border: none;\n",
              "      border-radius: 50%;\n",
              "      cursor: pointer;\n",
              "      display: none;\n",
              "      fill: #1967D2;\n",
              "      height: 32px;\n",
              "      padding: 0 0 0 0;\n",
              "      width: 32px;\n",
              "    }\n",
              "\n",
              "    .colab-df-convert:hover {\n",
              "      background-color: #E2EBFA;\n",
              "      box-shadow: 0px 1px 2px rgba(60, 64, 67, 0.3), 0px 1px 3px 1px rgba(60, 64, 67, 0.15);\n",
              "      fill: #174EA6;\n",
              "    }\n",
              "\n",
              "    .colab-df-buttons div {\n",
              "      margin-bottom: 4px;\n",
              "    }\n",
              "\n",
              "    [theme=dark] .colab-df-convert {\n",
              "      background-color: #3B4455;\n",
              "      fill: #D2E3FC;\n",
              "    }\n",
              "\n",
              "    [theme=dark] .colab-df-convert:hover {\n",
              "      background-color: #434B5C;\n",
              "      box-shadow: 0px 1px 3px 1px rgba(0, 0, 0, 0.15);\n",
              "      filter: drop-shadow(0px 1px 2px rgba(0, 0, 0, 0.3));\n",
              "      fill: #FFFFFF;\n",
              "    }\n",
              "  </style>\n",
              "\n",
              "    <script>\n",
              "      const buttonEl =\n",
              "        document.querySelector('#df-cf8c00b1-55be-417e-b00c-0d5c53b4c52d button.colab-df-convert');\n",
              "      buttonEl.style.display =\n",
              "        google.colab.kernel.accessAllowed ? 'block' : 'none';\n",
              "\n",
              "      async function convertToInteractive(key) {\n",
              "        const element = document.querySelector('#df-cf8c00b1-55be-417e-b00c-0d5c53b4c52d');\n",
              "        const dataTable =\n",
              "          await google.colab.kernel.invokeFunction('convertToInteractive',\n",
              "                                                    [key], {});\n",
              "        if (!dataTable) return;\n",
              "\n",
              "        const docLinkHtml = 'Like what you see? Visit the ' +\n",
              "          '<a target=\"_blank\" href=https://colab.research.google.com/notebooks/data_table.ipynb>data table notebook</a>'\n",
              "          + ' to learn more about interactive tables.';\n",
              "        element.innerHTML = '';\n",
              "        dataTable['output_type'] = 'display_data';\n",
              "        await google.colab.output.renderOutput(dataTable, element);\n",
              "        const docLink = document.createElement('div');\n",
              "        docLink.innerHTML = docLinkHtml;\n",
              "        element.appendChild(docLink);\n",
              "      }\n",
              "    </script>\n",
              "  </div>\n",
              "\n",
              "\n",
              "<div id=\"df-fe7747a4-bd2a-4c86-baaa-9c86856d2e8a\">\n",
              "  <button class=\"colab-df-quickchart\" onclick=\"quickchart('df-fe7747a4-bd2a-4c86-baaa-9c86856d2e8a')\"\n",
              "            title=\"Suggest charts.\"\n",
              "            style=\"display:none;\">\n",
              "\n",
              "<svg xmlns=\"http://www.w3.org/2000/svg\" height=\"24px\"viewBox=\"0 0 24 24\"\n",
              "     width=\"24px\">\n",
              "    <g>\n",
              "        <path d=\"M19 3H5c-1.1 0-2 .9-2 2v14c0 1.1.9 2 2 2h14c1.1 0 2-.9 2-2V5c0-1.1-.9-2-2-2zM9 17H7v-7h2v7zm4 0h-2V7h2v10zm4 0h-2v-4h2v4z\"/>\n",
              "    </g>\n",
              "</svg>\n",
              "  </button>\n",
              "\n",
              "<style>\n",
              "  .colab-df-quickchart {\n",
              "      --bg-color: #E8F0FE;\n",
              "      --fill-color: #1967D2;\n",
              "      --hover-bg-color: #E2EBFA;\n",
              "      --hover-fill-color: #174EA6;\n",
              "      --disabled-fill-color: #AAA;\n",
              "      --disabled-bg-color: #DDD;\n",
              "  }\n",
              "\n",
              "  [theme=dark] .colab-df-quickchart {\n",
              "      --bg-color: #3B4455;\n",
              "      --fill-color: #D2E3FC;\n",
              "      --hover-bg-color: #434B5C;\n",
              "      --hover-fill-color: #FFFFFF;\n",
              "      --disabled-bg-color: #3B4455;\n",
              "      --disabled-fill-color: #666;\n",
              "  }\n",
              "\n",
              "  .colab-df-quickchart {\n",
              "    background-color: var(--bg-color);\n",
              "    border: none;\n",
              "    border-radius: 50%;\n",
              "    cursor: pointer;\n",
              "    display: none;\n",
              "    fill: var(--fill-color);\n",
              "    height: 32px;\n",
              "    padding: 0;\n",
              "    width: 32px;\n",
              "  }\n",
              "\n",
              "  .colab-df-quickchart:hover {\n",
              "    background-color: var(--hover-bg-color);\n",
              "    box-shadow: 0 1px 2px rgba(60, 64, 67, 0.3), 0 1px 3px 1px rgba(60, 64, 67, 0.15);\n",
              "    fill: var(--button-hover-fill-color);\n",
              "  }\n",
              "\n",
              "  .colab-df-quickchart-complete:disabled,\n",
              "  .colab-df-quickchart-complete:disabled:hover {\n",
              "    background-color: var(--disabled-bg-color);\n",
              "    fill: var(--disabled-fill-color);\n",
              "    box-shadow: none;\n",
              "  }\n",
              "\n",
              "  .colab-df-spinner {\n",
              "    border: 2px solid var(--fill-color);\n",
              "    border-color: transparent;\n",
              "    border-bottom-color: var(--fill-color);\n",
              "    animation:\n",
              "      spin 1s steps(1) infinite;\n",
              "  }\n",
              "\n",
              "  @keyframes spin {\n",
              "    0% {\n",
              "      border-color: transparent;\n",
              "      border-bottom-color: var(--fill-color);\n",
              "      border-left-color: var(--fill-color);\n",
              "    }\n",
              "    20% {\n",
              "      border-color: transparent;\n",
              "      border-left-color: var(--fill-color);\n",
              "      border-top-color: var(--fill-color);\n",
              "    }\n",
              "    30% {\n",
              "      border-color: transparent;\n",
              "      border-left-color: var(--fill-color);\n",
              "      border-top-color: var(--fill-color);\n",
              "      border-right-color: var(--fill-color);\n",
              "    }\n",
              "    40% {\n",
              "      border-color: transparent;\n",
              "      border-right-color: var(--fill-color);\n",
              "      border-top-color: var(--fill-color);\n",
              "    }\n",
              "    60% {\n",
              "      border-color: transparent;\n",
              "      border-right-color: var(--fill-color);\n",
              "    }\n",
              "    80% {\n",
              "      border-color: transparent;\n",
              "      border-right-color: var(--fill-color);\n",
              "      border-bottom-color: var(--fill-color);\n",
              "    }\n",
              "    90% {\n",
              "      border-color: transparent;\n",
              "      border-bottom-color: var(--fill-color);\n",
              "    }\n",
              "  }\n",
              "</style>\n",
              "\n",
              "  <script>\n",
              "    async function quickchart(key) {\n",
              "      const quickchartButtonEl =\n",
              "        document.querySelector('#' + key + ' button');\n",
              "      quickchartButtonEl.disabled = true;  // To prevent multiple clicks.\n",
              "      quickchartButtonEl.classList.add('colab-df-spinner');\n",
              "      try {\n",
              "        const charts = await google.colab.kernel.invokeFunction(\n",
              "            'suggestCharts', [key], {});\n",
              "      } catch (error) {\n",
              "        console.error('Error during call to suggestCharts:', error);\n",
              "      }\n",
              "      quickchartButtonEl.classList.remove('colab-df-spinner');\n",
              "      quickchartButtonEl.classList.add('colab-df-quickchart-complete');\n",
              "    }\n",
              "    (() => {\n",
              "      let quickchartButtonEl =\n",
              "        document.querySelector('#df-fe7747a4-bd2a-4c86-baaa-9c86856d2e8a button');\n",
              "      quickchartButtonEl.style.display =\n",
              "        google.colab.kernel.accessAllowed ? 'block' : 'none';\n",
              "    })();\n",
              "  </script>\n",
              "</div>\n",
              "    </div>\n",
              "  </div>\n"
            ]
          },
          "metadata": {},
          "execution_count": 29
        }
      ]
    },
    {
      "cell_type": "code",
      "source": [
        "CS_count = len(df[\"CreditScore\"])\n",
        "print(CS_count)\n",
        "#The code calculates and displays the number of entries in the \"CreditScore\" column of the DataFrame `df` using Pandas and Python's `len()` function."
      ],
      "metadata": {
        "colab": {
          "base_uri": "https://localhost:8080/"
        },
        "id": "TxYViZI74flt",
        "outputId": "ae899de0-bfea-4e62-faf8-5b995affe864"
      },
      "execution_count": null,
      "outputs": [
        {
          "output_type": "stream",
          "name": "stdout",
          "text": [
            "5000\n"
          ]
        }
      ]
    },
    {
      "cell_type": "code",
      "source": [
        "df[\"CreditScore\"].isnull().sum()\n",
        "#This code counts the number of missing or null values in the \"CreditScore\" column within the DataFrame `df` using Pandas in Python."
      ],
      "metadata": {
        "colab": {
          "base_uri": "https://localhost:8080/"
        },
        "id": "9UcwOT1_5V6H",
        "outputId": "487f3e11-75c0-4d15-8f04-33f2bcdbfee9"
      },
      "execution_count": null,
      "outputs": [
        {
          "output_type": "execute_result",
          "data": {
            "text/plain": [
              "97"
            ]
          },
          "metadata": {},
          "execution_count": 31
        }
      ]
    },
    {
      "cell_type": "code",
      "source": [
        "CS_missing_count = df[\"CreditScore\"].isnull().sum()\n",
        "CS_missing_percentage = (CS_missing_count / CS_count) * 100\n",
        "print (CS_missing_percentage)\n",
        "#This code computes the percentage of missing values in the \"CreditScore\" column by first finding the count of missing values, then calculating the ratio of missing values to the total count, and finally expressing it as a percentage using Pandas and Python."
      ],
      "metadata": {
        "colab": {
          "base_uri": "https://localhost:8080/"
        },
        "id": "X2gwE5jc5sYt",
        "outputId": "d44d8f33-8745-4744-8625-9291b90e05f5"
      },
      "execution_count": null,
      "outputs": [
        {
          "output_type": "stream",
          "name": "stdout",
          "text": [
            "1.94\n"
          ]
        }
      ]
    },
    {
      "cell_type": "code",
      "source": [
        "CS_cardinality = df[\"CreditScore\"].nunique()\n",
        "print (CS_cardinality)\n",
        "#This code calculates the number of unique values present in the \"CreditScore\" column of the DataFrame `df` using Pandas and then prints the count of unique values."
      ],
      "metadata": {
        "colab": {
          "base_uri": "https://localhost:8080/"
        },
        "id": "OiyZXrAx6Hg8",
        "outputId": "6b2fa08b-3b8d-4035-f986-6d2687430991"
      },
      "execution_count": null,
      "outputs": [
        {
          "output_type": "stream",
          "name": "stdout",
          "text": [
            "539\n"
          ]
        }
      ]
    },
    {
      "cell_type": "code",
      "source": [
        "CS_min = df[\"CreditScore\"].min()\n",
        "print(CS_min)\n",
        "#This code finds and prints the minimum (smallest) value present in the \"CreditScore\" column within the DataFrame `df` using Pandas in Python."
      ],
      "metadata": {
        "colab": {
          "base_uri": "https://localhost:8080/"
        },
        "id": "2vlqkdRb6jrt",
        "outputId": "14acc826-14c1-41ef-a459-5f7c4aec14a3"
      },
      "execution_count": null,
      "outputs": [
        {
          "output_type": "stream",
          "name": "stdout",
          "text": [
            "56.125\n"
          ]
        }
      ]
    },
    {
      "cell_type": "code",
      "source": [
        "CS_ql = df [\"CreditScore\"].quantile(.25)\n",
        "print(CS_ql)\n",
        "#This code computes and prints the value that represents the 25th percentile (first quartile) of the \"CreditScore\" column in the DataFrame `df` using Pandas."
      ],
      "metadata": {
        "colab": {
          "base_uri": "https://localhost:8080/"
        },
        "id": "kAter5Uy7dQN",
        "outputId": "83af42c3-a2ff-4e7d-bb84-d344572144bb"
      },
      "execution_count": null,
      "outputs": [
        {
          "output_type": "stream",
          "name": "stdout",
          "text": [
            "583.0\n"
          ]
        }
      ]
    },
    {
      "cell_type": "code",
      "source": [
        "CS_mean = df[\"CreditScore\"].mean()\n",
        "print(CS_mean)\n",
        "#This code calculates and prints the mean (average) value of the \"CreditScore\" column within the DataFrame `df` using Pandas in Python."
      ],
      "metadata": {
        "colab": {
          "base_uri": "https://localhost:8080/"
        },
        "id": "Ng4IYRHK8CWG",
        "outputId": "f4267fd4-db61-4cb7-999f-6f34c2724c88"
      },
      "execution_count": null,
      "outputs": [
        {
          "output_type": "stream",
          "name": "stdout",
          "text": [
            "699.6660717927799\n"
          ]
        }
      ]
    },
    {
      "cell_type": "code",
      "source": [
        "CS_median = df[\"CreditScore\"].median()\n",
        "print(CS_median)\n",
        "#This code computes and prints the median value of the \"CreditScore\" column in the DataFrame `df` using Pandas in Python."
      ],
      "metadata": {
        "colab": {
          "base_uri": "https://localhost:8080/"
        },
        "id": "98c1JCYF8VFL",
        "outputId": "1bb34453-b3a7-4322-e582-0d707b109604"
      },
      "execution_count": null,
      "outputs": [
        {
          "output_type": "stream",
          "name": "stdout",
          "text": [
            "652.0\n"
          ]
        }
      ]
    },
    {
      "cell_type": "code",
      "source": [
        "CS_q3 = df [\"CreditScore\"].quantile(.75)\n",
        "print(CS_q3)\n",
        "#This code calculates and prints the value representing the 75th percentile (third quartile) of the \"CreditScore\" column in the DataFrame `df` using Pandas."
      ],
      "metadata": {
        "colab": {
          "base_uri": "https://localhost:8080/"
        },
        "id": "xDMEbesj8k8k",
        "outputId": "c23795c3-7dda-426c-8983-0d9272ff9cfa"
      },
      "execution_count": null,
      "outputs": [
        {
          "output_type": "stream",
          "name": "stdout",
          "text": [
            "719.0\n"
          ]
        }
      ]
    },
    {
      "cell_type": "code",
      "source": [
        "CS_max = df[\"CreditScore\"].max()\n",
        "print(CS_max)\n",
        "#This code finds and prints the maximum (largest) value present in the \"CreditScore\" column within the DataFrame `df` using Pandas in Python."
      ],
      "metadata": {
        "colab": {
          "base_uri": "https://localhost:8080/"
        },
        "id": "YHAkwqa689YG",
        "outputId": "33ef224e-2fe9-48fd-a8cb-ff9671149b40"
      },
      "execution_count": null,
      "outputs": [
        {
          "output_type": "stream",
          "name": "stdout",
          "text": [
            "6456.0\n"
          ]
        }
      ]
    },
    {
      "cell_type": "code",
      "source": [
        "CS_std = df[\"CreditScore\"].std()\n",
        "print(CS_std)\n",
        "#This code computes and prints the standard deviation of the \"CreditScore\" column in the DataFrame `df` using Pandas in Python."
      ],
      "metadata": {
        "colab": {
          "base_uri": "https://localhost:8080/"
        },
        "id": "-xhnzVRY9mJU",
        "outputId": "1e674f0e-a74b-4500-e8d7-8b3ed84db3e5"
      },
      "execution_count": null,
      "outputs": [
        {
          "output_type": "stream",
          "name": "stdout",
          "text": [
            "499.85758235283043\n"
          ]
        }
      ]
    },
    {
      "cell_type": "code",
      "source": [
        "G_count = len(df[\"Geography\"])\n",
        "print(G_count)\n",
        "#This code calculates and prints the number of entries in the \"Geography\" column of the DataFrame `df` using Pandas in Python."
      ],
      "metadata": {
        "colab": {
          "base_uri": "https://localhost:8080/"
        },
        "id": "IIXHI6Ya94qc",
        "outputId": "eaddc5f8-c3ca-494d-c4b2-e005553378c6"
      },
      "execution_count": null,
      "outputs": [
        {
          "output_type": "stream",
          "name": "stdout",
          "text": [
            "5000\n"
          ]
        }
      ]
    },
    {
      "cell_type": "code",
      "source": [
        "df[\"Geography\"].isnull().sum()"
      ],
      "metadata": {
        "colab": {
          "base_uri": "https://localhost:8080/"
        },
        "id": "LXR0O3xaFvv8",
        "outputId": "10ae4dd7-361c-4e6f-8c81-db0309116128"
      },
      "execution_count": null,
      "outputs": [
        {
          "output_type": "execute_result",
          "data": {
            "text/plain": [
              "0"
            ]
          },
          "metadata": {},
          "execution_count": 42
        }
      ]
    },
    {
      "cell_type": "code",
      "source": [
        "G_cardinality = df[\"Geography\"].nunique()\n",
        "print (G_cardinality)\n",
        "#This code calculates the count of unique values present in the \"Geography\" column of the DataFrame `df` using Pandas in Python and then prints the count of unique values."
      ],
      "metadata": {
        "colab": {
          "base_uri": "https://localhost:8080/"
        },
        "id": "CZcETFRmF57r",
        "outputId": "741d9395-58f2-4c0b-94e4-165413e1619a"
      },
      "execution_count": null,
      "outputs": [
        {
          "output_type": "stream",
          "name": "stdout",
          "text": [
            "3\n"
          ]
        }
      ]
    },
    {
      "cell_type": "code",
      "source": [
        "G_value_counts = df[\"Geography\"].value_counts()\n",
        "print(G_value_counts)\n",
        "#This code generates and prints a count of each unique value in the \"Geography\" column of the DataFrame `df` using Pandas in Python."
      ],
      "metadata": {
        "colab": {
          "base_uri": "https://localhost:8080/"
        },
        "id": "VRNOjQWWGfrr",
        "outputId": "4833f905-ca87-4d27-d0a8-5a25fc6a1691"
      },
      "execution_count": null,
      "outputs": [
        {
          "output_type": "stream",
          "name": "stdout",
          "text": [
            "France     2490\n",
            "Germany    1280\n",
            "Spain      1230\n",
            "Name: Geography, dtype: int64\n"
          ]
        }
      ]
    },
    {
      "cell_type": "code",
      "source": [
        "(2490/5000) * 100"
      ],
      "metadata": {
        "colab": {
          "base_uri": "https://localhost:8080/"
        },
        "id": "63KUAu8YHyzG",
        "outputId": "fe2aa6fa-d8b9-40d1-9c08-1e0507383a9e"
      },
      "execution_count": null,
      "outputs": [
        {
          "output_type": "execute_result",
          "data": {
            "text/plain": [
              "49.8"
            ]
          },
          "metadata": {},
          "execution_count": 45
        }
      ]
    },
    {
      "cell_type": "code",
      "source": [
        "(1280/5000) * 100"
      ],
      "metadata": {
        "colab": {
          "base_uri": "https://localhost:8080/"
        },
        "id": "cIvdeTnQI5q0",
        "outputId": "17987a79-75cf-42db-a0a9-63c2c8e3ff4d"
      },
      "execution_count": null,
      "outputs": [
        {
          "output_type": "execute_result",
          "data": {
            "text/plain": [
              "25.6"
            ]
          },
          "metadata": {},
          "execution_count": 46
        }
      ]
    },
    {
      "cell_type": "code",
      "source": [
        "CS_count = len(df[\"CreditScore\"])\n",
        "n_bins = int(np.sqrt(CS_count))\n",
        "print(n_bins)\n",
        "df[\"CreditScore\"].hist(bins=n_bins, edgecolor='black')\n",
        "plt.title(\"Credit Score Distribution\")\n",
        "plt.xlabel(\"Credit Score\")\n",
        "plt.ylabel (\"Frequency\")\n",
        "plt.show()\n",
        "#This code computes the number of bins for a histogram using the square root of the count of entries in the \"CreditScore\" column, then creates a histogram of the \"CreditScore\" column in the DataFrame `df` with the determined number of bins using Matplotlib and Pandas. The histogram represents the distribution of credit scores in the dataset."
      ],
      "metadata": {
        "colab": {
          "base_uri": "https://localhost:8080/",
          "height": 489
        },
        "id": "t1tLUV8VJMzy",
        "outputId": "95b289fd-7a2a-485e-8128-edfe85abba20"
      },
      "execution_count": null,
      "outputs": [
        {
          "output_type": "stream",
          "name": "stdout",
          "text": [
            "70\n"
          ]
        },
        {
          "output_type": "display_data",
          "data": {
            "text/plain": [
              "<Figure size 640x480 with 1 Axes>"
            ],
            "image/png": "[encoded data removed]"
          },
          "metadata": {}
        }
      ]
    },
    {
      "cell_type": "code",
      "source": [
        "G_value_counts.plot(kind=\"bar\")\n",
        "plt.title(\"Geography Distribution\")\n",
        "plt.xlabel(\"Geography\")\n",
        "plt.ylabel(\"Frequency\")\n",
        "plt.show()\n",
        "#This code generates a bar plot illustrating the frequency distribution of unique values in the \"Geography\" column of the DataFrame `df` using Matplotlib and Pandas, displaying the counts of each geography value."
      ],
      "metadata": {
        "colab": {
          "base_uri": "https://localhost:8080/",
          "height": 522
        },
        "id": "QEbOzwNNJiya",
        "outputId": "74824468-dcaf-4fc5-d512-b0e074c33ff7"
      },
      "execution_count": null,
      "outputs": [
        {
          "output_type": "display_data",
          "data": {
            "text/plain": [
              "<Figure size 640x480 with 1 Axes>"
            ],
            "image/png": "[encoded data removed]"
          },
          "metadata": {}
        }
      ]
    },
    {
      "cell_type": "code",
      "source": [
        "q1 = df[\"CreditScore\"].quantile(0.25)\n",
        "q3 = df[\"CreditScore\"].quantile(0.75)\n",
        "iqr = q3- q1\n",
        "max_limit = q3 + 1.5*iqr\n",
        "min_limit = q1 - 1.5*iqr\n",
        "print(max_limit)\n",
        "print(min_limit)\n",
        "#This code calculates the upper and lower limits for identifying potential outliers in the \"CreditScore\" column based on the interquartile range (IQR) method. The upper limit is calculated as Q3 + 1.5 * IQR, and the lower limit as Q1 - 1.5 * IQR, and both values are printed."
      ],
      "metadata": {
        "colab": {
          "base_uri": "https://localhost:8080/"
        },
        "id": "4orm66nMMRjp",
        "outputId": "f3504525-cfa6-426a-a5ca-23e4306373fe"
      },
      "execution_count": null,
      "outputs": [
        {
          "output_type": "stream",
          "name": "stdout",
          "text": [
            "923.0\n",
            "379.0\n"
          ]
        }
      ]
    },
    {
      "cell_type": "code",
      "source": [
        "df[\"CreditScore\"]=df[\"CreditScore\"].clip(lower=min_limit, upper=max_limit)"
      ],
      "metadata": {
        "id": "lPNmLqkTR1Wh"
      },
      "execution_count": null,
      "outputs": []
    },
    {
      "cell_type": "code",
      "source": [
        "#This code uses Pandas to modify the \"CreditScore\" column in the DataFrame `df` by capping its values within the calculated lower and upper limits, effectively handling potential outliers by replacing extreme values with these limits."
      ],
      "metadata": {
        "id": "4y3TV3tMSNAq"
      },
      "execution_count": null,
      "outputs": []
    },
    {
      "cell_type": "code",
      "source": [],
      "metadata": {
        "id": "7GZs1fvS3c8g"
      },
      "execution_count": null,
      "outputs": []
    }
  ]
}